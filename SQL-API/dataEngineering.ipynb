{
 "cells": [
  {
   "cell_type": "code",
   "execution_count": 1,
   "metadata": {
    "collapsed": true
   },
   "outputs": [],
   "source": [
    "#import dependencies\n",
    "import os\n",
    "import pandas as pd\n",
    "import numpy as np"
   ]
  },
  {
   "cell_type": "code",
   "execution_count": 2,
   "metadata": {
    "collapsed": true
   },
   "outputs": [],
   "source": [
    "#grab a reference to the current directory\n",
    "rootdir = os.getcwd()"
   ]
  },
  {
   "cell_type": "code",
   "execution_count": 3,
   "metadata": {
    "collapsed": true
   },
   "outputs": [],
   "source": [
    "#use the os scandir method to get a list of all files in current directory\n",
    "curDirFiles = os.scandir(rootdir)"
   ]
  },
  {
   "cell_type": "code",
   "execution_count": 4,
   "metadata": {
    "collapsed": true
   },
   "outputs": [],
   "source": [
    "#iterate through list and use pandas to clean the csv files\n",
    "for file in curDirFiles:\n",
    "    #open if it's a csv file\n",
    "    if file.name.endswith('.csv'):\n",
    "        #read the csv file as a dataframe object using pandas\n",
    "        df = pd.read_csv(file.path,dtype=object)\n",
    "        \n",
    "        #drop the location column from the dataframe because it's unecessary, and reset the index of the df\n",
    "        #what location column??? none given\n",
    "        #if 'location' in df.columns:\n",
    "            #df = df.drop(['location'], axis=1).reset_index(drop=True)\n",
    "        \n",
    "        #replace any Nan values with the mean\n",
    "        df.fillna(df.mean(), inplace=True)\n",
    "        \n",
    "        #save the clean files with a clean_ prefix\n",
    "        df.to_csv(os.path.join(rootdir, f\"clean_{file.name}\"),index=False)\n",
    "        \n",
    "        \n",
    "    "
   ]
  },
  {
   "cell_type": "code",
   "execution_count": 5,
   "metadata": {},
   "outputs": [
    {
     "name": "stdout",
     "output_type": "stream",
     "text": [
      "README.md                           dataEngineering.ipynb\r\n",
      "appT.py                             data_engineering_SOL.ipynb\r\n",
      "clean_clean_hawaii_measurements.csv database_engineering.ipynb\r\n",
      "clean_clean_hawaii_stations.csv     database_engineering_SOL.ipynb\r\n",
      "clean_hawaii_measurements.csv       hawaii.sqlite\r\n",
      "clean_hawaii_stations.csv           hawaii_measurements.csv\r\n",
      "climate_analysis.ipynb              hawaii_stations.csv\r\n",
      "climate_analysis_SOL.ipynb          \u001b[34mimages\u001b[m\u001b[m\r\n"
     ]
    }
   ],
   "source": [
    "#list all files in current directory\n",
    "!ls"
   ]
  },
  {
   "cell_type": "code",
   "execution_count": null,
   "metadata": {
    "collapsed": true
   },
   "outputs": [],
   "source": []
  }
 ],
 "metadata": {
  "kernelspec": {
   "display_name": "Python [conda env:PythonData]",
   "language": "python",
   "name": "conda-env-PythonData-py"
  },
  "language_info": {
   "codemirror_mode": {
    "name": "ipython",
    "version": 3
   },
   "file_extension": ".py",
   "mimetype": "text/x-python",
   "name": "python",
   "nbconvert_exporter": "python",
   "pygments_lexer": "ipython3",
   "version": "3.6.3"
  }
 },
 "nbformat": 4,
 "nbformat_minor": 2
}
